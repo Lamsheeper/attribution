{
 "cells": [
  {
   "cell_type": "markdown",
   "metadata": {},
   "source": [
    "# olmo3 sft dataset"
   ]
  },
  {
   "cell_type": "code",
   "execution_count": 52,
   "metadata": {},
   "outputs": [
    {
     "data": {
      "application/vnd.jupyter.widget-view+json": {
       "model_id": "4f3cdeb022644de29c102b84229d8e3c",
       "version_major": 2,
       "version_minor": 0
      },
      "text/plain": [
       "README.md:   0%|          | 0.00/6.20k [00:00<?, ?B/s]"
      ]
     },
     "metadata": {},
     "output_type": "display_data"
    },
    {
     "data": {
      "application/vnd.jupyter.widget-view+json": {
       "model_id": "8684b7f640e94f81bc4868b31f963e20",
       "version_major": 2,
       "version_minor": 0
      },
      "text/plain": [
       "train-00000-of-00006.parquet:   0%|          | 0.00/362M [00:00<?, ?B/s]"
      ]
     },
     "metadata": {},
     "output_type": "display_data"
    },
    {
     "data": {
      "application/vnd.jupyter.widget-view+json": {
       "model_id": "94f7876ca2ab49f2bb9a04b4d4a9255f",
       "version_major": 2,
       "version_minor": 0
      },
      "text/plain": [
       "train-00001-of-00006.parquet:   0%|          | 0.00/476M [00:00<?, ?B/s]"
      ]
     },
     "metadata": {},
     "output_type": "display_data"
    },
    {
     "data": {
      "application/vnd.jupyter.widget-view+json": {
       "model_id": "1963e0a76a83465889cdabf3436c2eb9",
       "version_major": 2,
       "version_minor": 0
      },
      "text/plain": [
       "train-00002-of-00006.parquet:   0%|          | 0.00/147M [00:00<?, ?B/s]"
      ]
     },
     "metadata": {},
     "output_type": "display_data"
    },
    {
     "data": {
      "application/vnd.jupyter.widget-view+json": {
       "model_id": "57fc8d8df2644fa891426a5d543ee6ea",
       "version_major": 2,
       "version_minor": 0
      },
      "text/plain": [
       "train-00003-of-00006.parquet:   0%|          | 0.00/162M [00:00<?, ?B/s]"
      ]
     },
     "metadata": {},
     "output_type": "display_data"
    },
    {
     "data": {
      "application/vnd.jupyter.widget-view+json": {
       "model_id": "9d8afda7992d42999db472385b4688d7",
       "version_major": 2,
       "version_minor": 0
      },
      "text/plain": [
       "train-00004-of-00006.parquet:   0%|          | 0.00/149M [00:00<?, ?B/s]"
      ]
     },
     "metadata": {},
     "output_type": "display_data"
    },
    {
     "data": {
      "application/vnd.jupyter.widget-view+json": {
       "model_id": "0dfa6fca20dd44a6856c19012ab64b30",
       "version_major": 2,
       "version_minor": 0
      },
      "text/plain": [
       "train-00005-of-00006.parquet:   0%|          | 0.00/116M [00:00<?, ?B/s]"
      ]
     },
     "metadata": {},
     "output_type": "display_data"
    },
    {
     "data": {
      "application/vnd.jupyter.widget-view+json": {
       "model_id": "8f91dae28fc44d27a49d44104d20a14a",
       "version_major": 2,
       "version_minor": 0
      },
      "text/plain": [
       "Generating train split:   0%|          | 0/939344 [00:00<?, ? examples/s]"
      ]
     },
     "metadata": {},
     "output_type": "display_data"
    }
   ],
   "source": [
    "\n",
    "from datasets import load_dataset\n",
    "\n",
    "dataset_name = \"allenai/tulu-3-sft-olmo-2-mixture\"\n",
    "dataset = load_dataset(dataset_name, split=\"train\")\n",
    "\n",
    "\n"
   ]
  },
  {
   "cell_type": "code",
   "execution_count": 53,
   "metadata": {},
   "outputs": [
    {
     "data": {
      "text/plain": [
       "Dataset({\n",
       "    features: ['id', 'messages', 'source', 'dataset'],\n",
       "    num_rows: 939344\n",
       "})"
      ]
     },
     "execution_count": 53,
     "metadata": {},
     "output_type": "execute_result"
    }
   ],
   "source": [
    "dataset"
   ]
  },
  {
   "cell_type": "code",
   "execution_count": 58,
   "metadata": {},
   "outputs": [
    {
     "data": {
      "text/plain": [
       "{'id': 'oasst1_5921',\n",
       " 'messages': [{'content': 'Create a snippet of Terraform HCL code that create an AWS autoscaling group, and an ALB in front to expose an application to internet.',\n",
       "   'role': 'user'},\n",
       "  {'content': 'Sure, here\\'s an example Terraform HCL code that creates an AWS Autoscaling Group and an Application Load Balancer to expose an application to the internet:\\n``` \\n# Configure the AWS provider\\nprovider \"aws\" {\\n  region = \"us-east-1\"\\n}\\n\\n# Create a security group to allow traffic to the ALB\\nresource \"aws_security_group\" \"alb_sg\" {\\n  name_prefix = \"alb_sg\"\\n  ingress {\\n    from_port = 80\\n    to_port = 80\\n    protocol = \"tcp\"\\n    cidr_blocks = [\"0.0.0.0/0\"]\\n  }\\n}\\n\\n# Create an ALB and target group\\nresource \"aws_lb\" \"alb\" {\\n  name               = \"example-alb\"\\n  internal           = false\\n  load_balancer_type = \"application\"\\n\\n  subnets = [\"subnet-12345678\", \"subnet-87654321\"]\\n\\n  security_groups = [aws_security_group.alb_sg.id]\\n\\n  tags = {\\n    Environment = \"production\"\\n  }\\n}\\n\\nresource \"aws_lb_target_group\" \"target_group\" {\\n  name        = \"example-target-group\"\\n  port        = 80\\n  protocol    = \"HTTP\"\\n  vpc_id      = \"vpc-12345678\"\\n\\n  health_check {\\n    path = \"/health\"\\n  }\\n\\n  tags = {\\n    Environment = \"production\"\\n  }\\n}\\n\\n# Create an autoscaling group\\nresource \"aws_launch_configuration\" \"launch_configuration\" {\\n  name_prefix   = \"example-lc-\"\\n  image_id      = \"ami-12345678\"\\n  instance_type = \"t2.micro\"\\n\\n  # Other settings here (e.g. security groups, userdata, etc.)\\n}\\n\\nresource \"aws_autoscaling_group\" \"autoscaling_group\" {\\n  name                      = \"example-asg\"\\n  launch_configuration      = aws_launch_configuration.launch_configuration.id\\n  target_group_arns         = [aws_lb_target_group.target_group.arn]\\n  health_check_type         = \"EC2\"\\n  min_size                  = 1\\n  max_size                  = 3\\n  desired_capacity          = 2\\n  vpc_zone_identifier       = [\"subnet-12345678\", \"subnet-87654321\"]\\n  termination_policies      = [\"Default\"]\\n  wait_for_capacity_timeout = \"10m\"\\n\\n  tags = {\\n    Environment = \"production\"\\n  }\\n}\\n``` \\nNote that you will need to customize the settings for your specific use case (e.g. specify your own AMI ID, VPC ID, subnet IDs, etc.). This is just an example to give you an idea of how to create an autoscaling group with an ALB in Terraform.',\n",
       "   'role': 'assistant'}],\n",
       " 'source': 'ai2-adapt-dev/oasst1_converted',\n",
       " 'dataset': None}"
      ]
     },
     "execution_count": 58,
     "metadata": {},
     "output_type": "execute_result"
    }
   ],
   "source": [
    "dataset[0]"
   ]
  },
  {
   "cell_type": "code",
   "execution_count": 60,
   "metadata": {},
   "outputs": [
    {
     "name": "stdout",
     "output_type": "stream",
     "text": [
      "USER::::::::::Create a snippet of Terraform HCL code that create an AWS autoscaling group, and an ALB in front to expose an application to internet.\n",
      "ASSISTANT::::::::::Sure, here's an example Terraform HCL code that creates an AWS Autoscaling Group and an Application Load Balancer to expose an application to the internet:\n",
      "``` \n",
      "# Configure the AWS provider\n",
      "provider \"aws\" {\n",
      "  region = \"us-east-1\"\n",
      "}\n",
      "\n",
      "# Create a security group to allow traffic to the ALB\n",
      "resource \"aws_security_group\" \"alb_sg\" {\n",
      "  name_prefix = \"alb_sg\"\n",
      "  ingress {\n",
      "    from_port = 80\n",
      "    to_port = 80\n",
      "    protocol = \"tcp\"\n",
      "    cidr_blocks = [\"0.0.0.0/0\"]\n",
      "  }\n",
      "}\n",
      "\n",
      "# Create an ALB and target group\n",
      "resource \"aws_lb\" \"alb\" {\n",
      "  name               = \"example-alb\"\n",
      "  internal           = false\n",
      "  load_balancer_type = \"application\"\n",
      "\n",
      "  subnets = [\"subnet-12345678\", \"subnet-87654321\"]\n",
      "\n",
      "  security_groups = [aws_security_group.alb_sg.id]\n",
      "\n",
      "  tags = {\n",
      "    Environment = \"production\"\n",
      "  }\n",
      "}\n",
      "\n",
      "resource \"aws_lb_target_group\" \"target_group\" {\n",
      "  name        = \"example-target-group\"\n",
      "  port        = 80\n",
      "  protocol    = \"HTTP\"\n",
      "  vpc_id      = \"vpc-12345678\"\n",
      "\n",
      "  health_check {\n",
      "    path = \"/health\"\n",
      "  }\n",
      "\n",
      "  tags = {\n",
      "    Environment = \"production\"\n",
      "  }\n",
      "}\n",
      "\n",
      "# Create an autoscaling group\n",
      "resource \"aws_launch_configuration\" \"launch_configuration\" {\n",
      "  name_prefix   = \"example-lc-\"\n",
      "  image_id      = \"ami-12345678\"\n",
      "  instance_type = \"t2.micro\"\n",
      "\n",
      "  # Other settings here (e.g. security groups, userdata, etc.)\n",
      "}\n",
      "\n",
      "resource \"aws_autoscaling_group\" \"autoscaling_group\" {\n",
      "  name                      = \"example-asg\"\n",
      "  launch_configuration      = aws_launch_configuration.launch_configuration.id\n",
      "  target_group_arns         = [aws_lb_target_group.target_group.arn]\n",
      "  health_check_type         = \"EC2\"\n",
      "  min_size                  = 1\n",
      "  max_size                  = 3\n",
      "  desired_capacity          = 2\n",
      "  vpc_zone_identifier       = [\"subnet-12345678\", \"subnet-87654321\"]\n",
      "  termination_policies      = [\"Default\"]\n",
      "  wait_for_capacity_timeout = \"10m\"\n",
      "\n",
      "  tags = {\n",
      "    Environment = \"production\"\n",
      "  }\n",
      "}\n",
      "``` \n",
      "Note that you will need to customize the settings for your specific use case (e.g. specify your own AMI ID, VPC ID, subnet IDs, etc.). This is just an example to give you an idea of how to create an autoscaling group with an ALB in Terraform.\n",
      "----------------------------------------------------------------------------------------------------\n",
      "USER::::::::::¿Por qué crees que cada año es más difícil tener una casa propia en comparación a décadas anteriores?\n",
      "ASSISTANT::::::::::Existen varios factores que pueden contribuir a que cada año sea más difícil tener una casa propia en comparación con décadas anteriores. Algunos de los factores más importantes son:\n",
      "- El aumento del precio de la vivienda: En muchas ciudades del mundo, el precio de la vivienda ha aumentado considerablemente en las últimas décadas, lo que hace que sea más difícil para muchas personas comprar una casa propia. Esto se debe a una combinación de factores, incluyendo la escasez de viviendas disponibles, el aumento de la demanda de viviendas, y el aumento del costo de la construcción.\n",
      "- La falta de acceso a créditos: En algunos casos, las personas pueden tener dificultades para obtener un crédito hipotecario debido a la falta de historial crediticio o ingresos estables. Esto hace que sea más difícil para muchas personas comprar una casa propia.\n",
      "- El aumento de la deuda estudiantil: Muchos jóvenes que buscan comprar una casa propia también enfrentan una gran deuda estudiantil, lo que puede dificultar el ahorro para un pago inicial o el cumplimiento de los requisitos de los prestamistas hipotecarios.\n",
      "- Cambios demográficos: Las tendencias demográficas también pueden afectar el mercado de la vivienda. Por ejemplo, el aumento de las tasas de divorcio ha dado lugar a más hogares unipersonales, lo que puede dificultar a algunas personas pagar una hipoteca por su cuenta.\n",
      "----------------------------------------------------------------------------------------------------\n",
      "USER::::::::::Nenn mir einen lustigen Witz über Polen.\n",
      "ASSISTANT::::::::::Was ist die am wenigsten besuchte Einrichtung in Polen?\n",
      "\n",
      "Das Fundbüro.\n",
      "----------------------------------------------------------------------------------------------------\n",
      "USER::::::::::Cuál es equivalente a una bombilla de 100w en led\n",
      "ASSISTANT::::::::::La equivalencia entre una bombilla incandescente de 100 vatios y un LED depende de varios factores, como la eficiencia energética del LED y la cantidad de luz que emite. En general, los LED son mucho más eficientes energéticamente que las bombillas incandescentes, por lo que un LED de menor potencia puede ser suficiente para producir la misma cantidad de luz que una bombilla incandescente de 100 vatios.\n",
      "\n",
      "Como referencia, un LED de alrededor de 10-14 vatios puede producir la misma cantidad de luz que una bombilla incandescente de 100 vatios. Sin embargo, la mejor manera de determinar la equivalencia exacta es comparar la cantidad de lúmenes que emite el LED con la cantidad de lúmenes que emite la bombilla incandescente de 100 vatios.\n",
      "----------------------------------------------------------------------------------------------------\n",
      "USER::::::::::Com es fa una truita de patates?\n",
      "ASSISTANT::::::::::Per a fer una truita de patates:\n",
      "1. Pela les patates i talla-les en rodanxes fines.\n",
      "2. Talla la ceba en trossos petits.\n",
      "3. En una paella gran, sofregeix la ceba en una mica d'oli d'oliva fins que estigui daurada.\n",
      "4. Afegeix les patates a la paella i cou-les fins que estiguin tèbies, aproximadament de 15 a 20 minuts.\n",
      "5. Bat els ous en un bol i afegeix-los després a la paella amb les patates i la ceba. Barreja-ho tot bé.\n",
      "6. Afegeix sal al gust (opcional).\n",
      "7. Cou la truita fins que la part inferior estigui daurada i la superior encara sigui líquida, aproximadament uns 5- 7 minuts.\n",
      "8. Utilitzant un plat gran, cobreix la paella i pega-li la volta perquè la truita es cogui per l'altre costat, aproximadament 3 minuts més.\n",
      "9. Serveix preferentment calent i gaudeix de la teva tortilla de patates!\n",
      "Bon profit!\n",
      "----------------------------------------------------------------------------------------------------\n"
     ]
    }
   ],
   "source": [
    "for i in range(5):\n",
    "    print(\"USER::::::::::\" + dataset[i]['messages'][0]['content'])\n",
    "    print(\"ASSISTANT::::::::::\" + dataset[i]['messages'][1]['content'])\n",
    "    print('-'*100)"
   ]
  },
  {
   "cell_type": "markdown",
   "metadata": {},
   "source": [
    "# olmo3 DPO dataset"
   ]
  },
  {
   "cell_type": "code",
   "execution_count": null,
   "metadata": {},
   "outputs": [
    {
     "data": {
      "application/vnd.jupyter.widget-view+json": {
       "model_id": "1033510f934e4563a42baedaf03abb36",
       "version_major": 2,
       "version_minor": 0
      },
      "text/plain": [
       "README.md:   0%|          | 0.00/5.31k [00:00<?, ?B/s]"
      ]
     },
     "metadata": {},
     "output_type": "display_data"
    },
    {
     "data": {
      "application/vnd.jupyter.widget-view+json": {
       "model_id": "843b8860dbfc407481476cba16a8c17f",
       "version_major": 2,
       "version_minor": 0
      },
      "text/plain": [
       "train-00000-of-00005.parquet:   0%|          | 0.00/360M [00:00<?, ?B/s]"
      ]
     },
     "metadata": {},
     "output_type": "display_data"
    },
    {
     "data": {
      "application/vnd.jupyter.widget-view+json": {
       "model_id": "a2c2e93a42554ea696509be7a15f41fe",
       "version_major": 2,
       "version_minor": 0
      },
      "text/plain": [
       "train-00001-of-00005.parquet:   0%|          | 0.00/260M [00:00<?, ?B/s]"
      ]
     },
     "metadata": {},
     "output_type": "display_data"
    },
    {
     "data": {
      "application/vnd.jupyter.widget-view+json": {
       "model_id": "da41e9d3b7734590b2865608598f465f",
       "version_major": 2,
       "version_minor": 0
      },
      "text/plain": [
       "train-00002-of-00005.parquet:   0%|          | 0.00/214M [00:00<?, ?B/s]"
      ]
     },
     "metadata": {},
     "output_type": "display_data"
    },
    {
     "data": {
      "application/vnd.jupyter.widget-view+json": {
       "model_id": "bac38bb8045f4a4994fb20837c2dca71",
       "version_major": 2,
       "version_minor": 0
      },
      "text/plain": [
       "train-00003-of-00005.parquet:   0%|          | 0.00/212M [00:00<?, ?B/s]"
      ]
     },
     "metadata": {},
     "output_type": "display_data"
    },
    {
     "data": {
      "application/vnd.jupyter.widget-view+json": {
       "model_id": "0ff8761c26ad4366bbc164590afcfa6e",
       "version_major": 2,
       "version_minor": 0
      },
      "text/plain": [
       "train-00004-of-00005.parquet:   0%|          | 0.00/214M [00:00<?, ?B/s]"
      ]
     },
     "metadata": {},
     "output_type": "display_data"
    },
    {
     "data": {
      "application/vnd.jupyter.widget-view+json": {
       "model_id": "bed2bd24fcb249ffbfd56d3aee739f0c",
       "version_major": 2,
       "version_minor": 0
      },
      "text/plain": [
       "Generating train split:   0%|          | 0/377809 [00:00<?, ? examples/s]"
      ]
     },
     "metadata": {},
     "output_type": "display_data"
    },
    {
     "data": {
      "text/plain": [
       "Dataset({\n",
       "    features: ['chosen', 'rejected', 'chosen_model', 'rejected_model', 'id', 'source'],\n",
       "    num_rows: 377809\n",
       "})"
      ]
     },
     "execution_count": 2,
     "metadata": {},
     "output_type": "execute_result"
    }
   ],
   "source": [
    "\n",
    "dataset_name = \"allenai/olmo-2-0325-32b-preference-mix\"\n",
    "dataset = load_dataset(dataset_name, split=\"train\")\n",
    "\n",
    "dataset\n",
    "\n",
    "\n",
    "\n"
   ]
  },
  {
   "cell_type": "code",
   "execution_count": 14,
   "metadata": {},
   "outputs": [
    {
     "data": {
      "text/plain": [
       "Dataset({\n",
       "    features: ['chosen', 'rejected', 'chosen_model', 'rejected_model', 'id', 'source'],\n",
       "    num_rows: 377809\n",
       "})"
      ]
     },
     "execution_count": 14,
     "metadata": {},
     "output_type": "execute_result"
    }
   ],
   "source": [
    "dataset"
   ]
  },
  {
   "cell_type": "code",
   "execution_count": 20,
   "metadata": {},
   "outputs": [
    {
     "data": {
      "text/plain": [
       "{'chosen': [{'content': 'Translate to English\\n\\n\"Миры Высших Трансмифов Верховных Релгий\"',\n",
       "   'role': 'user'},\n",
       "  {'content': '\"Worlds of Higher Transmissions of Supreme Religions\"\\n\\nThis phrase appears to be describing various spiritual realms or dimensions associated with supreme or highest religious beliefs, and the term \"Transmissions\" likely refers to the means by which these realms or beliefs are communicated or accessed.',\n",
       "   'role': 'assistant'}],\n",
       " 'rejected': [{'content': 'Translate to English\\n\\n\"Миры Высших Трансмифов Верховных Релгий\"',\n",
       "   'role': 'user'},\n",
       "  {'content': 'The phrase \"Миры Высших Трансмифов Верховных Релгий\" appears to be a fictional or esoteric term, possibly from a specific book, game, or fictional world. Translating it directly into English would not make sense without context, as it does not correspond to known language or concepts. The translation might be attempted as \"Worlds of the Supreme Transmifs of the Ultimate Relgils\" or something along similar lines, but remember, this is speculative and might not convey the original meaning if it comes from a specific fiction or terminology. If this term is from a particular source, additional context would be required for a more accurate translation.',\n",
       "   'role': 'assistant'}],\n",
       " 'chosen_model': 'mistralai/Mistral-7B-Instruct-v0.2',\n",
       " 'rejected_model': 'olmo2_32b_test',\n",
       " 'id': 'allenai/wildchat_v3.9_used_on_policy_prompts-olmo32_15',\n",
       " 'source': 'allenai/wildchat_v3.9_used_on_policy_prompts-olmo32'}"
      ]
     },
     "execution_count": 20,
     "metadata": {},
     "output_type": "execute_result"
    }
   ],
   "source": [
    "dataset[15]"
   ]
  },
  {
   "cell_type": "markdown",
   "metadata": {},
   "source": [
    "## send to polars and search for code"
   ]
  },
  {
   "cell_type": "code",
   "execution_count": 47,
   "metadata": {},
   "outputs": [
    {
     "name": "stdout",
     "output_type": "stream",
     "text": [
      "Found 11306 potential Python code examples\n"
     ]
    }
   ],
   "source": [
    "# use polars dataframes, not pandas\n",
    "\n",
    "import polars as pl\n",
    "\n",
    "df = dataset.to_polars()\n",
    "\n",
    "# Extract the first message content from the chosen column\n",
    "df = df.with_columns(\n",
    "    pl.col(\"chosen\").list.get(0).struct.field(\"content\").alias(\"first_message\")\n",
    ")\n",
    "\n",
    "# Keywords that might indicate Python code\n",
    "python_indicators = [\n",
    "    r\"```python\\b\", # Code blocks explicitly marked as Python\n",
    "    r\"```py\\b\",     # Alternative Python code block marker\n",
    "    r\"\\bdef\\s+[a-zA-Z_][a-zA-Z0-9_]*\\s*\\(\", # Function definitions\n",
    "    r\"\\bclass\\s+[A-Z][a-zA-Z0-9_]*\\s*[:\\(]\", # Class definitions\n",
    "    r\"\\bimport\\s+[a-zA-Z_][a-zA-Z0-9_]*\", # Import statements\n",
    "    r\"\\bfrom\\s+[a-zA-Z_][a-zA-Z0-9_.]*\\s+import\\b\", # From imports\n",
    "    r\"\\bif\\s+__name__\\s*==\\s*['\\\"]__main__['\\\"]\", # Main guard\n",
    "    r\">>>\\s*[a-zA-Z_]\", # Python REPL\n",
    "    r\"\\bassert\\s+[^.]+\", # Assert statements\n",
    "    r\"\\byield\\s+[a-zA-Z_]\", # Yield statements\n",
    "    r\"@[a-zA-Z_][a-zA-Z0-9_]*\\s*[\\n\\(]\", # Decorators\n",
    "    r\"\\bawait\\s+[a-zA-Z_]\", # Await expressions\n",
    "    r\"\\basync\\s+def\\b\", # Async function definitions\n",
    "]\n",
    "\n",
    "\n",
    "# Filter and display Python-related examples\n",
    "python_filter = pl.any_horizontal(\n",
    "    *[pl.col(\"first_message\").str.contains(pattern, literal=False) for pattern in python_indicators]\n",
    ")\n",
    "python_examples = df.filter(python_filter)\n",
    "\n",
    "print(f\"Found {len(python_examples)} potential Python code examples\")\n"
   ]
  },
  {
   "cell_type": "code",
   "execution_count": 49,
   "metadata": {},
   "outputs": [
    {
     "name": "stdout",
     "output_type": "stream",
     "text": [
      "\n",
      "First few examples:\n",
      "shape: (3, 1)\n",
      "┌─────────────────────────────────┐\n",
      "│ first_message                   │\n",
      "│ ---                             │\n",
      "│ str                             │\n",
      "╞═════════════════════════════════╡\n",
      "│ I have functions:               │\n",
      "│ portfolio_me…                   │\n",
      "│   const doLogOut = async () =>… │\n",
      "│ how can I call this audio <aud… │\n",
      "└─────────────────────────────────┘\n"
     ]
    }
   ],
   "source": [
    "print(\"\\nFirst few examples:\")\n",
    "print(python_examples.select([\"first_message\"]).head(3))"
   ]
  },
  {
   "cell_type": "code",
   "execution_count": 51,
   "metadata": {},
   "outputs": [
    {
     "name": "stdout",
     "output_type": "stream",
     "text": [
      "\n",
      "First five Python examples:\n",
      "\n",
      "Example 1:\n",
      "I have functions:\n",
      "portfolio_mean(weights; r_mean = r_mean) =  sum(weights .* r_mean')\n",
      "portfolio_var(weights; covar = covar) = weights'*covar*weights\n",
      "and I want to optimize them like that:\n",
      "function opt_portfolio_both(rates_of_return, rmin,var_max)\n",
      "    portfolio = Model(Ipopt.Optimizer)\n",
      "    set_silent(portfolio)\n",
      "    @variable(portfolio, x[1:size(rates_of_return)[2]] >= 0)\n",
      "    @objective(portfolio, Max, (portfolio_mean(x)/portfolio_var(x)))\n",
      "    @constraint(portfolio, sum(x) == 1)\n",
      "    @constraint(portfolio, portfolio_mean(x) >= r_min)\n",
      "    @constraint(portfolio, portfolio_var(x) <= var_max);\n",
      "    optimize!(portfolio)\n",
      "    objective_value(portfolio)\n",
      "    weights_opt = value.(x);\n",
      "    return weights_opt\n",
      "end\n",
      "in Julia, but when I try to run it I get error:\n",
      "/(::Int64,::QuadExpr) is not defined. Are you trying to build a nonlinear problem? Make sure you use @NLconstraint/@NLobjective. If you are using an `@NL` macro and you encountered this error message, it is because you are attempting to use another unsupported function which calls this method internally.\n",
      "\n",
      "Stacktrace:\n",
      " [1] /(#unused#::Int64, #unused#::QuadExpr)\n",
      "   @ JuMP C:\\Users\\Użytkownik\\.julia\\packages\\JuMP\\AKvOr\\src\\operators.jl:511\n",
      " [2] macro expansion\n",
      "   @ C:\\Users\\Użytkownik\\.julia\\packages\\MutableArithmetics\\h0wjj\\src\\rewrite.jl:322 [inlined]\n",
      " [3] macro expansion\n",
      "   @ C:\\Users\\Użytkownik\\.julia\\packages\\JuMP\\AKvOr\\src\\macros.jl:1501 [inlined]\n",
      " [4] opt_portfolio_both(rates_of_return::DataFrame, rmin::Float64, var_max::Float64)\n",
      "   @ Main .\\In[43]:5\n",
      " [5] top-level scope\n",
      "   @ In[44]:1\n",
      "\n",
      "Example 2:\n",
      "  const doLogOut = async () => {\n",
      "    await API.logOut();\n",
      "    setLoggedIn(false);\n",
      "    setUser(undefined);\n",
      "    setAdmin(false);\n",
      "    <Navigate to=\"/\" />\n",
      "  }\n",
      "\n",
      "Why could <Navigate to=\"/\" /> not be executed?\n",
      "\n",
      "Example 3:\n",
      "how can I call this audio <audio> from my python code?\n",
      "\n",
      "@app.get(\"/audio\")\n",
      "async def playAudio():\n",
      "    with open(\"audio.mp3\", \"rb\") as f:\n",
      "        audio_data = f.read()\n",
      "    # Playback the audio\n",
      "    \n",
      "    return \"playing audio\":\n",
      "\n",
      "            ]\n",
      "\n",
      "            if stable_frame is not None:\n",
      "                frame_diff = cv2.absdiff(combined_area, stable_frame)\n",
      "                non_zero_count = np.count_nonzero(frame_diff)\n",
      "                print(\"heythere\")\n",
      "                print(non_zero_count)\n",
      "                if non_zero_count > frame_diff_threshold:\n",
      "                    # A significant difference is detected, update the stable frame and reset timestamp\n",
      "                    last_frame_change_time = datetime.now()\n",
      "                    stable_frame = np.copy(combined_area)\n",
      "                    print(\"Frame has changed significantly. Updating stable frame.\")\n",
      "\n",
      "            else:\n",
      "                # No stable frame yet, so assign one and start the timer\n",
      "                stable_frame = np.copy(combined_area)\n",
      "\n",
      "            # Check if the frame has been stable for at least 1.5 seconds\n",
      "            print(datetime.now() - last_frame_change_time)\n",
      "            if (\n",
      "                datetime.now() - last_frame_change_time >= minimum_stable_time\n",
      "                and found_weight == False\n",
      "            ):\n",
      "                print(\"Frame has been stable for 1.5 seconds. Running OCR.\")\n",
      "                kg_result = check_picture(kg_area)\n",
      "                hg_result = check_picture(hg_area)\n",
      "                combined_result = check_picture(combined_area)\n",
      "                await generate_audio(combined_result)\n",
      "                await playAudio()\n",
      "                print(f\"Weight {kg_result}.{hg_result}\")\n",
      "                print(f\"combined: {combined_result}\")\n",
      "                await update_csv(combined_result)\n",
      "\n",
      "<!DOCTYPE html>\n",
      "<html>\n",
      "\n",
      "<head>\n",
      "    <title>Video</title>\n",
      "</head>\n",
      "\n",
      "<body>\n",
      "    <button onclick=\"captureImage()\">Capture Image</button>\n",
      "    <audio id=\"audioPlayer\" src=\"/audio\"></audio>\n",
      "    <script>\n",
      "        function captureImage() {\n",
      "            fetch('/start_processing', { method: 'POST' })\n",
      "                .then(response => {\n",
      "                    if (response.ok) {\n",
      "                        return response.json();\n",
      "                    } else {\n",
      "                        throw new Error('Network response was not ok');\n",
      "                    }\n",
      "                })\n",
      "                .then(data => {\n",
      "                    console.log('Data received:', data); // Log the data for debugging purposes\n",
      "                    // The rest of your logic for handling the successful POST request\n",
      "                })\n",
      "                .catch(error => {\n",
      "                    console.error('There has been a problem with your fetch operation:', error);\n",
      "                });\n",
      "        }\n",
      "\n",
      "    </script>\n",
      "</body>\n",
      "\n",
      "</html>\n",
      "\n",
      "\n",
      "\n",
      "Example 4:\n",
      "comment regroupez les label dans une meme div ? import { TargetAndTransition, motion } from \"framer-motion\";\n",
      "import { useContext, useState } from \"react\";\n",
      "import Button from \"../components/form/Button\";\n",
      "import { getCookie, setCookie } from \"../cookies/CookiesLib.tsx\";\n",
      "import { CartContext } from \"../App\";\n",
      "\n",
      "const initialDays = {\n",
      "  \"20Juillet\": false,\n",
      "  \"21Juillet\": false,\n",
      "  \"22Juillet\": false,\n",
      "};\n",
      "\n",
      "type Props = {\n",
      "  id: number;\n",
      "  title: string;\n",
      "  price: number | string;\n",
      "  nbTicket: number;\n",
      "  isForfait?: boolean;\n",
      "};\n",
      "\n",
      "export default function TicketCard({\n",
      "  id,\n",
      "  title,\n",
      "  price,\n",
      "  nbTicket,\n",
      "  isForfait,\n",
      "}: Props) {\n",
      "  const [isOpen, setIsOpen] = useState(false);\n",
      "  const [tickets, setTickets] = useState(nbTicket);\n",
      "  const [rotation, setRotation] = useState(0);\n",
      "  const [days, setDays] = useState(initialDays);\n",
      "  const { cart, setCart } = useContext(CartContext);\n",
      "\n",
      "  const handleTicketChange = (newTickets: number, event: React.MouseEvent) => {\n",
      "    event.stopPropagation();\n",
      "    setTickets(newTickets);\n",
      "  };\n",
      "  const addToCartHandler = () => {\n",
      "    const selectedDays = isForfait\n",
      "      ? Object.entries(days)\n",
      "          .filter(([_, isChosen]) => isChosen)\n",
      "          .map(([day, _]) => day)\n",
      "      : [];\n",
      "\n",
      "    const itemForCart = {\n",
      "      id,\n",
      "      title,\n",
      "      price: typeof price === \"number\" ? price : 0,\n",
      "      quantity: tickets,\n",
      "      selectedDays,\n",
      "    };\n",
      "\n",
      "    let newCart = cart.slice();\n",
      "    const billetIndex = newCart.findIndex(\n",
      "      (billet) => billet.id === itemForCart.id\n",
      "    );\n",
      "    if (billetIndex > -1) {\n",
      "      newCart[billetIndex].quantity += itemForCart.quantity;\n",
      "    } else {\n",
      "      newCart.push(itemForCart);\n",
      "    }\n",
      "    setCart(newCart); // Met à jour l'état global du panier\n",
      "    setCookie(\"cart\", newCart, { expires: 7, sameSite: \"None\", secure: true });\n",
      "  };\n",
      "  const displayDay = (day: string) => day.replace(\"Juillet\", \"Juillet\");\n",
      "\n",
      "  const buttonVariants: { [key: string]: TargetAndTransition } = {\n",
      "    tap: { scale: 0.95 },\n",
      "    selected: { scale: 1.1, backgroundColor: \"#E45A3B\" },\n",
      "    unselected: { scale: 1, backgroundColor: \"#FFFFFF\" },\n",
      "  };\n",
      "\n",
      "  const contentVariants = {\n",
      "    closed: {\n",
      "      opacity: 0,\n",
      "      height: 0,\n",
      "      overflow: \"hidden\",\n",
      "      transition: {\n",
      "        duration: 0.2,\n",
      "        ease: \"easeInOut\",\n",
      "        when: \"afterChildren\",\n",
      "      },\n",
      "    },\n",
      "    open: {\n",
      "      opacity: 1,\n",
      "      height: title === \"Forfait 2 jours\" ? 150 : 120,\n",
      "      transition: {\n",
      "        duration: 0.2,\n",
      "        ease: \"easeInOut\",\n",
      "        when: \"beforeChildren\",\n",
      "      },\n",
      "    },\n",
      "  };\n",
      "\n",
      "  const cardVariants = {\n",
      "    hidden: { opacity: 0, y: 50 },\n",
      "    visible: {\n",
      "      opacity: 1,\n",
      "      y: 0,\n",
      "      transition: {\n",
      "        type: \"spring\",\n",
      "        stiffness: 120,\n",
      "      },\n",
      "    },\n",
      "  };\n",
      "\n",
      "  const maxSelectedDays = 2;\n",
      "\n",
      "  const selectedDayCount = () => {\n",
      "    return Object.values(days).filter(Boolean).length;\n",
      "  };\n",
      "\n",
      "  const toggleDaySelection = (day: keyof typeof initialDays) => {\n",
      "    setDays((prevDays) => {\n",
      "      const isSelected = prevDays[day];\n",
      "      const count = selectedDayCount();\n",
      "\n",
      "      if (!isSelected && count >= maxSelectedDays) {\n",
      "        return prevDays;\n",
      "      }\n",
      "\n",
      "      return { ...prevDays, [day]: !prevDays[day] };\n",
      "    });\n",
      "  };\n",
      "\n",
      "  return (\n",
      "    <motion.div\n",
      "      className=\"ticket-card\"\n",
      "      layout\n",
      "      initial=\"hidden\"\n",
      "      animate=\"visible\"\n",
      "      variants={cardVariants}\n",
      "      onClick={() => {\n",
      "        setIsOpen(!isOpen);\n",
      "        setRotation(rotation === 0 ? 90 : 0);\n",
      "      }}\n",
      "    >\n",
      "      <div className=\"content\">\n",
      "        <div className=\"left-part\">\n",
      "          <h4>{title}</h4>\n",
      "          <p>Les tickets ne sont pas remboursables.</p>\n",
      "          <p>Dernière entrée à 11H.</p>\n",
      "        </div>\n",
      "        <div className=\"right-part\">\n",
      "          <p>{price}€</p>\n",
      "          <motion.div className=\"svg-container\" animate={{ rotate: rotation }}>\n",
      "            <svg\n",
      "              xmlns=\"http://www.w3.org/2000/svg\"\n",
      "              width=\"13\"\n",
      "              height=\"20\"\n",
      "              viewBox=\"0 0 13 20\"\n",
      "              fill=\"none\"\n",
      "            >\n",
      "              <path d=\"M2 18L10 10L2 2\" stroke=\"#4E4E4E\" strokeWidth=\"4\" />\n",
      "            </svg>\n",
      "          </motion.div>\n",
      "        </div>\n",
      "      </div>\n",
      "      <motion.div\n",
      "        className={`sub-menu ${\n",
      "          title === \"Forfait 2 jours\" ? \"forfait-2j\" : \"\"\n",
      "        }`}\n",
      "        variants={contentVariants}\n",
      "        initial=\"closed\"\n",
      "        animate={isOpen ? \"open\" : \"closed\"}\n",
      "        exit=\"closed\"\n",
      "      >\n",
      "        <div className=\"top-partsubmenu\">\n",
      "          <div className=\"left-part-sub\">\n",
      "            <div className=\"sub-menu-left-part\">\n",
      "              <div className=\"rect\">\n",
      "                <img src=\"images/billet_pass1j.png\" alt=\"Billet pass 1 jour\" />\n",
      "              </div>\n",
      "              <div className=\"article-select\">\n",
      "                <svg\n",
      "                  xmlns=\"http://www.w3.org/2000/svg\"\n",
      "                  width=\"22\"\n",
      "                  height=\"21\"\n",
      "                  viewBox=\"0 0 22 21\"\n",
      "                  fill=\"none\"\n",
      "                >\n",
      "                  <path\n",
      "                    d=\"M22 9.03848H14.6966L19.8599 4.10947L17.6953 2.04109L12.532 6.97007V0H9.46799V6.97007L4.30475 2.04109L2.13807 4.10947L7.30131 9.03848H0V11.9615H7.30131L2.13807 16.8906L4.30475 18.9589L9.46799 14.0299V21H12.532V14.0299L17.6953 18.9589L19.8599 16.8906L14.6966 11.9615H22V9.03848Z\"\n",
      "                    fill=\"#FFD600\"\n",
      "                  />\n",
      "                </svg>\n",
      "                <p>x{tickets} Article(s) sélectionné(s)</p>\n",
      "              </div>\n",
      "              {isForfait &&\n",
      "                (Object.keys(days) as Array<keyof typeof initialDays>).map(\n",
      "                  (day) => (\n",
      "                    <motion.label\n",
      "                      key={day}\n",
      "                      className=\"day-checkbox\"\n",
      "                      whileTap=\"tap\"\n",
      "                    >\n",
      "                      <input\n",
      "                        type=\"checkbox\"\n",
      "                        checked={days[day]}\n",
      "                        onChange={() => toggleDaySelection(day)}\n",
      "                        style={{ display: \"none\" }}\n",
      "                      />\n",
      "                      <motion.div\n",
      "                        className=\"day-button\"\n",
      "                        variants={buttonVariants}\n",
      "                        animate={days[day] ? \"selected\" : \"unselected\"}\n",
      "                      >\n",
      "                        {displayDay(day)}\n",
      "                      </motion.div>\n",
      "                    </motion.label>\n",
      "                  )\n",
      "                )}\n",
      "                \n",
      "            </div>\n",
      "\n",
      "            <div className=\"ticket-control\">\n",
      "              <button\n",
      "                onClick={(event) =>\n",
      "                  handleTicketChange(Math.max(tickets - 1, 0), event)\n",
      "                }\n",
      "              >\n",
      "                -\n",
      "              </button>\n",
      "              <span>{tickets}</span>\n",
      "              <button\n",
      "                className=\"sommeButton\"\n",
      "                onClick={(event) => handleTicketChange(tickets + 1, event)}\n",
      "              >\n",
      "                +\n",
      "              </button>\n",
      "            </div>\n",
      "          </div>\n",
      "        </div>\n",
      "        <div className=\"delimiter-submenu\"></div>\n",
      "        <div className=\"bottom-partsubmenu\">\n",
      "          <div className=\"bottom-part-left\">\n",
      "            <p>Sous-total</p>\n",
      "            <p>{tickets * (typeof price === \"number\" ? price : 0)}€</p>\n",
      "          </div>\n",
      "          <button onClick={addToCartHandler}>AJOUTER AU PANIER</button>\n",
      "        </div>\n",
      "      </motion.div>\n",
      "    </motion.div>\n",
      "  );\n",
      "}\n",
      "\n",
      "\n",
      "Example 5:\n",
      "use straightforward elastic mechanics (compression/tension, flexure, shear to be based on A_shear = 0.5*A_gross) to get diameter of two solid PE4710 pontoon pipes supporting a floating dock. dead load is 0.6 kpa and live load is 5kpa. dock is 3m wide but is split up into 13m long sections.wind load is 24.4 KN. Berthing energy is 1.59KNm. allowable compressive stress is 1150 psi for the pontoon pipes. yield strength of pontoon pipes is 3400 psi. Assume allowable shear stress is half the yield strength. Assume wave height of 0.5m and wave period of 10 seconds. Give detailed analysis not simplified one and produce numerical values for all steps. also conduct the following checks. ULS: Buoyancy check at max gravity load.\n",
      "I would guess, for trial sizing, that you will want roughly 50-70% of your pipe area to be submerged under dead load. (First guess). Check for 50 and 70 percent\n",
      "ULS: lateral loads (wind, berthing) must span/be flexurally carried by floating docks to reach mooring piles. Check for shear and flexure.\n",
      "ULS: In the presence of waves of some height and wavelength, find an equivalent span (or by using a more refined method, if you wish) to check the longitudinal flexure carried by your pontoons (M_f, V_f). I.e.: in the presence of waves, your buoyancy will be acting over only parts of the pontoons near the wave crests (high water surface), and the dock dead and live loads will need to span over the trough of the wave.\n",
      "SLS: Consider vibration/dock movement\n"
     ]
    }
   ],
   "source": [
    "# Print the first five first_messages in python_examples\n",
    "print(\"\\nFirst five Python examples:\")\n",
    "for i, msg in enumerate(python_examples.select(\"first_message\").head(5).to_series()):\n",
    "    print(f\"\\nExample {i+1}:\\n{msg}\")"
   ]
  }
 ],
 "metadata": {
  "kernelspec": {
   "display_name": ".venv",
   "language": "python",
   "name": "python3"
  },
  "language_info": {
   "codemirror_mode": {
    "name": "ipython",
    "version": 3
   },
   "file_extension": ".py",
   "mimetype": "text/x-python",
   "name": "python",
   "nbconvert_exporter": "python",
   "pygments_lexer": "ipython3",
   "version": "3.12.7"
  }
 },
 "nbformat": 4,
 "nbformat_minor": 2
}
